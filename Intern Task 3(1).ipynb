{
 "cells": [
  {
   "cell_type": "markdown",
   "id": "e314afd3",
   "metadata": {},
   "source": [
    "# Task 3\n",
    "\n",
    "## A/B Testing Analysis\n",
    "### Conduct an A/B testing analysis to evaluate the impact of a change or intervention. Analyze the results using statistical techniques and draw actionable insights."
   ]
  },
  {
   "cell_type": "code",
   "execution_count": 1,
   "id": "e3cc4c71",
   "metadata": {},
   "outputs": [
    {
     "data": {
      "image/png": "[encoded data removed]",
      "text/plain": [
       "<Figure size 864x432 with 1 Axes>"
      ]
     },
     "metadata": {
      "needs_background": "light"
     },
     "output_type": "display_data"
    },
    {
     "name": "stdout",
     "output_type": "stream",
     "text": [
      "        count        mean       std        min        25%         50%  \\\n",
      "Group                                                                   \n",
      "A      1000.0  100.193321  9.792159  67.587327  93.524097  100.253006   \n",
      "B      1000.0  105.708362  9.974544  75.596114  98.937583  105.630771   \n",
      "\n",
      "              75%         max  \n",
      "Group                          \n",
      "A      106.479439  138.527315  \n",
      "B      112.288822  136.931076  \n",
      "T-statistic: -12.477026028717471\n",
      "P-value: 1.8492169348407711e-34\n",
      "Reject the null hypothesis: There is a significant difference between the two groups.\n"
     ]
    }
   ],
   "source": [
    "import numpy as np\n",
    "import pandas as pd\n",
    "import matplotlib.pyplot as plt\n",
    "import seaborn as sns\n",
    "from scipy import stats\n",
    "\n",
    "# Simulate some data for the A/B test\n",
    "np.random.seed(42)\n",
    "\n",
    "# Group A: Control group\n",
    "group_a = np.random.normal(loc=100, scale=10, size=1000)  # mean=100, std=10, size=1000\n",
    "\n",
    "# Group B: Treatment group\n",
    "group_b = np.random.normal(loc=105, scale=10, size=1000)  # mean=105, std=10, size=1000\n",
    "\n",
    "# Create a DataFrame\n",
    "data = pd.DataFrame({\n",
    "    'Group': ['A']*len(group_a) + ['B']*len(group_b),\n",
    "    'Value': np.concatenate([group_a, group_b])\n",
    "})\n",
    "\n",
    "# Visualize the data\n",
    "plt.figure(figsize=(12, 6))\n",
    "sns.histplot(data, x='Value', hue='Group', element='step', stat='density', common_norm=False)\n",
    "plt.title('Distribution of Values for Group A and Group B')\n",
    "plt.xlabel('Value')\n",
    "plt.ylabel('Density')\n",
    "plt.show()\n",
    "\n",
    "# Summary statistics\n",
    "summary_stats = data.groupby('Group')['Value'].describe()\n",
    "print(summary_stats)\n",
    "\n",
    "# Conduct a two-sample t-test\n",
    "t_stat, p_value = stats.ttest_ind(group_a, group_b)\n",
    "print(f'T-statistic: {t_stat}')\n",
    "print(f'P-value: {p_value}')\n",
    "\n",
    "# Actionable insights\n",
    "alpha = 0.05\n",
    "if p_value < alpha:\n",
    "    print(\"Reject the null hypothesis: There is a significant difference between the two groups.\")\n",
    "else:\n",
    "    print(\"Fail to reject the null hypothesis: There is no significant difference between the two groups.\")\n"
   ]
  }
 ],
 "metadata": {
  "kernelspec": {
   "display_name": "Python 3 (ipykernel)",
   "language": "python",
   "name": "python3"
  },
  "language_info": {
   "codemirror_mode": {
    "name": "ipython",
    "version": 3
   },
   "file_extension": ".py",
   "mimetype": "text/x-python",
   "name": "python",
   "nbconvert_exporter": "python",
   "pygments_lexer": "ipython3",
   "version": "3.9.12"
  }
 },
 "nbformat": 4,
 "nbformat_minor": 5
}
